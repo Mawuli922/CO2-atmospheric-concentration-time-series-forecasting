{
 "cells": [
  {
   "cell_type": "code",
   "execution_count": 101,
   "metadata": {},
   "outputs": [],
   "source": [
    "import pandas as pd\n",
    "import matplotlib.pyplot as plt\n",
    "import numpy as np"
   ]
  },
  {
   "cell_type": "code",
   "execution_count": 77,
   "metadata": {},
   "outputs": [],
   "source": [
    "df = pd.read_csv(\"co2-concentration-long-term.csv\")"
   ]
  },
  {
   "cell_type": "markdown",
   "metadata": {},
   "source": [
    "The dataframe contains data from 803719 BCE to 2018. In this Project, we are interested in data from world war 2 era onwards "
   ]
  },
  {
   "cell_type": "code",
   "execution_count": 78,
   "metadata": {},
   "outputs": [],
   "source": [
    "df = df[df[\"Year\"]>1940]\n",
    "        "
   ]
  },
  {
   "cell_type": "code",
   "execution_count": 79,
   "metadata": {},
   "outputs": [
    {
     "data": {
      "text/html": [
       "<div>\n",
       "<style scoped>\n",
       "    .dataframe tbody tr th:only-of-type {\n",
       "        vertical-align: middle;\n",
       "    }\n",
       "\n",
       "    .dataframe tbody tr th {\n",
       "        vertical-align: top;\n",
       "    }\n",
       "\n",
       "    .dataframe thead th {\n",
       "        text-align: right;\n",
       "    }\n",
       "</style>\n",
       "<table border=\"1\" class=\"dataframe\">\n",
       "  <thead>\n",
       "    <tr style=\"text-align: right;\">\n",
       "      <th></th>\n",
       "      <th>Entity</th>\n",
       "      <th>Code</th>\n",
       "      <th>Year</th>\n",
       "      <th>CO2 concentrations (NOAA, 2018)</th>\n",
       "    </tr>\n",
       "  </thead>\n",
       "  <tbody>\n",
       "    <tr>\n",
       "      <th>1796</th>\n",
       "      <td>World</td>\n",
       "      <td>OWID_WRL</td>\n",
       "      <td>1941</td>\n",
       "      <td>309.77</td>\n",
       "    </tr>\n",
       "    <tr>\n",
       "      <th>1797</th>\n",
       "      <td>World</td>\n",
       "      <td>OWID_WRL</td>\n",
       "      <td>1942</td>\n",
       "      <td>312.37</td>\n",
       "    </tr>\n",
       "    <tr>\n",
       "      <th>1798</th>\n",
       "      <td>World</td>\n",
       "      <td>OWID_WRL</td>\n",
       "      <td>1944</td>\n",
       "      <td>312.36</td>\n",
       "    </tr>\n",
       "    <tr>\n",
       "      <th>1799</th>\n",
       "      <td>World</td>\n",
       "      <td>OWID_WRL</td>\n",
       "      <td>1945</td>\n",
       "      <td>310.94</td>\n",
       "    </tr>\n",
       "    <tr>\n",
       "      <th>1800</th>\n",
       "      <td>World</td>\n",
       "      <td>OWID_WRL</td>\n",
       "      <td>1946</td>\n",
       "      <td>312.26</td>\n",
       "    </tr>\n",
       "  </tbody>\n",
       "</table>\n",
       "</div>"
      ],
      "text/plain": [
       "     Entity      Code  Year  CO2 concentrations (NOAA, 2018)\n",
       "1796  World  OWID_WRL  1941                           309.77\n",
       "1797  World  OWID_WRL  1942                           312.37\n",
       "1798  World  OWID_WRL  1944                           312.36\n",
       "1799  World  OWID_WRL  1945                           310.94\n",
       "1800  World  OWID_WRL  1946                           312.26"
      ]
     },
     "execution_count": 79,
     "metadata": {},
     "output_type": "execute_result"
    }
   ],
   "source": [
    "df.head()"
   ]
  },
  {
   "cell_type": "code",
   "execution_count": 80,
   "metadata": {},
   "outputs": [],
   "source": [
    "df = df.set_index(\"Year\")"
   ]
  },
  {
   "cell_type": "code",
   "execution_count": 81,
   "metadata": {},
   "outputs": [],
   "source": [
    "df.index = pd.to_datetime(df.index, format = \"%Y\")"
   ]
  },
  {
   "cell_type": "code",
   "execution_count": 82,
   "metadata": {},
   "outputs": [
    {
     "data": {
      "text/html": [
       "<div>\n",
       "<style scoped>\n",
       "    .dataframe tbody tr th:only-of-type {\n",
       "        vertical-align: middle;\n",
       "    }\n",
       "\n",
       "    .dataframe tbody tr th {\n",
       "        vertical-align: top;\n",
       "    }\n",
       "\n",
       "    .dataframe thead th {\n",
       "        text-align: right;\n",
       "    }\n",
       "</style>\n",
       "<table border=\"1\" class=\"dataframe\">\n",
       "  <thead>\n",
       "    <tr style=\"text-align: right;\">\n",
       "      <th></th>\n",
       "      <th>Entity</th>\n",
       "      <th>Code</th>\n",
       "      <th>CO2 concentrations (NOAA, 2018)</th>\n",
       "    </tr>\n",
       "    <tr>\n",
       "      <th>Year</th>\n",
       "      <th></th>\n",
       "      <th></th>\n",
       "      <th></th>\n",
       "    </tr>\n",
       "  </thead>\n",
       "  <tbody>\n",
       "    <tr>\n",
       "      <th>1941-01-01</th>\n",
       "      <td>World</td>\n",
       "      <td>OWID_WRL</td>\n",
       "      <td>309.77</td>\n",
       "    </tr>\n",
       "    <tr>\n",
       "      <th>1942-01-01</th>\n",
       "      <td>World</td>\n",
       "      <td>OWID_WRL</td>\n",
       "      <td>312.37</td>\n",
       "    </tr>\n",
       "    <tr>\n",
       "      <th>1944-01-01</th>\n",
       "      <td>World</td>\n",
       "      <td>OWID_WRL</td>\n",
       "      <td>312.36</td>\n",
       "    </tr>\n",
       "    <tr>\n",
       "      <th>1945-01-01</th>\n",
       "      <td>World</td>\n",
       "      <td>OWID_WRL</td>\n",
       "      <td>310.94</td>\n",
       "    </tr>\n",
       "    <tr>\n",
       "      <th>1946-01-01</th>\n",
       "      <td>World</td>\n",
       "      <td>OWID_WRL</td>\n",
       "      <td>312.26</td>\n",
       "    </tr>\n",
       "  </tbody>\n",
       "</table>\n",
       "</div>"
      ],
      "text/plain": [
       "           Entity      Code  CO2 concentrations (NOAA, 2018)\n",
       "Year                                                        \n",
       "1941-01-01  World  OWID_WRL                           309.77\n",
       "1942-01-01  World  OWID_WRL                           312.37\n",
       "1944-01-01  World  OWID_WRL                           312.36\n",
       "1945-01-01  World  OWID_WRL                           310.94\n",
       "1946-01-01  World  OWID_WRL                           312.26"
      ]
     },
     "execution_count": 82,
     "metadata": {},
     "output_type": "execute_result"
    }
   ],
   "source": [
    "df.head()"
   ]
  },
  {
   "cell_type": "code",
   "execution_count": 83,
   "metadata": {},
   "outputs": [],
   "source": [
    "df = df.rename(columns = {\"CO2 concentrations (NOAA, 2018)\": \"CO2 PPM\"})"
   ]
  },
  {
   "cell_type": "code",
   "execution_count": 84,
   "metadata": {},
   "outputs": [
    {
     "data": {
      "text/html": [
       "<div>\n",
       "<style scoped>\n",
       "    .dataframe tbody tr th:only-of-type {\n",
       "        vertical-align: middle;\n",
       "    }\n",
       "\n",
       "    .dataframe tbody tr th {\n",
       "        vertical-align: top;\n",
       "    }\n",
       "\n",
       "    .dataframe thead th {\n",
       "        text-align: right;\n",
       "    }\n",
       "</style>\n",
       "<table border=\"1\" class=\"dataframe\">\n",
       "  <thead>\n",
       "    <tr style=\"text-align: right;\">\n",
       "      <th></th>\n",
       "      <th>Entity</th>\n",
       "      <th>Code</th>\n",
       "      <th>CO2 PPM</th>\n",
       "    </tr>\n",
       "    <tr>\n",
       "      <th>Year</th>\n",
       "      <th></th>\n",
       "      <th></th>\n",
       "      <th></th>\n",
       "    </tr>\n",
       "  </thead>\n",
       "  <tbody>\n",
       "    <tr>\n",
       "      <th>1941-01-01</th>\n",
       "      <td>World</td>\n",
       "      <td>OWID_WRL</td>\n",
       "      <td>309.77</td>\n",
       "    </tr>\n",
       "    <tr>\n",
       "      <th>1942-01-01</th>\n",
       "      <td>World</td>\n",
       "      <td>OWID_WRL</td>\n",
       "      <td>312.37</td>\n",
       "    </tr>\n",
       "    <tr>\n",
       "      <th>1944-01-01</th>\n",
       "      <td>World</td>\n",
       "      <td>OWID_WRL</td>\n",
       "      <td>312.36</td>\n",
       "    </tr>\n",
       "    <tr>\n",
       "      <th>1945-01-01</th>\n",
       "      <td>World</td>\n",
       "      <td>OWID_WRL</td>\n",
       "      <td>310.94</td>\n",
       "    </tr>\n",
       "    <tr>\n",
       "      <th>1946-01-01</th>\n",
       "      <td>World</td>\n",
       "      <td>OWID_WRL</td>\n",
       "      <td>312.26</td>\n",
       "    </tr>\n",
       "  </tbody>\n",
       "</table>\n",
       "</div>"
      ],
      "text/plain": [
       "           Entity      Code  CO2 PPM\n",
       "Year                                \n",
       "1941-01-01  World  OWID_WRL   309.77\n",
       "1942-01-01  World  OWID_WRL   312.37\n",
       "1944-01-01  World  OWID_WRL   312.36\n",
       "1945-01-01  World  OWID_WRL   310.94\n",
       "1946-01-01  World  OWID_WRL   312.26"
      ]
     },
     "execution_count": 84,
     "metadata": {},
     "output_type": "execute_result"
    }
   ],
   "source": [
    "df.head()"
   ]
  },
  {
   "cell_type": "code",
   "execution_count": 85,
   "metadata": {},
   "outputs": [],
   "source": [
    "df.drop([\"Entity\",\"Code\"], axis = 1, inplace = True)"
   ]
  },
  {
   "cell_type": "code",
   "execution_count": 180,
   "metadata": {},
   "outputs": [
    {
     "data": {
      "text/plain": [
       "Text(0.5, 1.0, 'Trend of annual CO2 Atmospheric Concentration (PPM) from 1940s to 2018')"
      ]
     },
     "execution_count": 180,
     "metadata": {},
     "output_type": "execute_result"
    },
    {
     "data": {
      "image/png": "[encoded data removed]",
      "text/plain": [
       "<Figure size 864x432 with 1 Axes>"
      ]
     },
     "metadata": {
      "needs_background": "light"
     },
     "output_type": "display_data"
    }
   ],
   "source": [
    "df[\"CO2 PPM\"].plot(figsize = (12,6))\n",
    "plt.ylabel(\"Atmospheric Concentration of CO2 in PPM\")\n",
    "plt.title(\"Trend of annual CO2 Atmospheric Concentration (PPM) from 1940s to 2018\")"
   ]
  },
  {
   "cell_type": "markdown",
   "metadata": {},
   "source": [
    "Visually, the time series is not weakly stationary"
   ]
  },
  {
   "cell_type": "code",
   "execution_count": 87,
   "metadata": {},
   "outputs": [
    {
     "name": "stdout",
     "output_type": "stream",
     "text": [
      "P-value of the time series ADF Test =  1.0\n"
     ]
    }
   ],
   "source": [
    "from statsmodels.tsa.stattools import adfuller\n",
    "adfuller(df[\"CO2 PPM\"])\n",
    "print(\"P-value of the time series ADF Test = \", adfuller(df[\"CO2 PPM\"])[1])"
   ]
  },
  {
   "cell_type": "code",
   "execution_count": 88,
   "metadata": {},
   "outputs": [],
   "source": [
    "ddiff = df.diff(periods = 1)"
   ]
  },
  {
   "cell_type": "code",
   "execution_count": 89,
   "metadata": {},
   "outputs": [
    {
     "data": {
      "text/html": [
       "<div>\n",
       "<style scoped>\n",
       "    .dataframe tbody tr th:only-of-type {\n",
       "        vertical-align: middle;\n",
       "    }\n",
       "\n",
       "    .dataframe tbody tr th {\n",
       "        vertical-align: top;\n",
       "    }\n",
       "\n",
       "    .dataframe thead th {\n",
       "        text-align: right;\n",
       "    }\n",
       "</style>\n",
       "<table border=\"1\" class=\"dataframe\">\n",
       "  <thead>\n",
       "    <tr style=\"text-align: right;\">\n",
       "      <th></th>\n",
       "      <th>CO2 PPM</th>\n",
       "    </tr>\n",
       "    <tr>\n",
       "      <th>Year</th>\n",
       "      <th></th>\n",
       "    </tr>\n",
       "  </thead>\n",
       "  <tbody>\n",
       "    <tr>\n",
       "      <th>1942-01-01</th>\n",
       "      <td>2.60</td>\n",
       "    </tr>\n",
       "    <tr>\n",
       "      <th>1944-01-01</th>\n",
       "      <td>-0.01</td>\n",
       "    </tr>\n",
       "    <tr>\n",
       "      <th>1945-01-01</th>\n",
       "      <td>-1.42</td>\n",
       "    </tr>\n",
       "    <tr>\n",
       "      <th>1946-01-01</th>\n",
       "      <td>1.32</td>\n",
       "    </tr>\n",
       "    <tr>\n",
       "      <th>1947-01-01</th>\n",
       "      <td>-0.65</td>\n",
       "    </tr>\n",
       "  </tbody>\n",
       "</table>\n",
       "</div>"
      ],
      "text/plain": [
       "            CO2 PPM\n",
       "Year               \n",
       "1942-01-01     2.60\n",
       "1944-01-01    -0.01\n",
       "1945-01-01    -1.42\n",
       "1946-01-01     1.32\n",
       "1947-01-01    -0.65"
      ]
     },
     "execution_count": 89,
     "metadata": {},
     "output_type": "execute_result"
    }
   ],
   "source": [
    "ddiff = ddiff[1:]\n",
    "ddiff.head()"
   ]
  },
  {
   "cell_type": "code",
   "execution_count": 90,
   "metadata": {},
   "outputs": [
    {
     "data": {
      "text/plain": [
       "<AxesSubplot:xlabel='Year'>"
      ]
     },
     "execution_count": 90,
     "metadata": {},
     "output_type": "execute_result"
    },
    {
     "data": {
      "image/png": "[encoded data removed]",
      "text/plain": [
       "<Figure size 432x288 with 1 Axes>"
      ]
     },
     "metadata": {
      "needs_background": "light"
     },
     "output_type": "display_data"
    }
   ],
   "source": [
    "ddiff.plot()"
   ]
  },
  {
   "cell_type": "code",
   "execution_count": 91,
   "metadata": {},
   "outputs": [
    {
     "data": {
      "text/plain": [
       "(-0.8503889237444548,\n",
       " 0.8038709867047065,\n",
       " 7,\n",
       " 66,\n",
       " {'1%': -3.5335601309235605,\n",
       "  '5%': -2.9064436883991434,\n",
       "  '10%': -2.590723948576676},\n",
       " 90.1021173086495)"
      ]
     },
     "execution_count": 91,
     "metadata": {},
     "output_type": "execute_result"
    }
   ],
   "source": [
    "adfuller(ddiff)"
   ]
  },
  {
   "cell_type": "markdown",
   "metadata": {},
   "source": [
    "even after differencing it is still not weakly stationary"
   ]
  },
  {
   "cell_type": "code",
   "execution_count": 93,
   "metadata": {},
   "outputs": [],
   "source": [
    "from statsmodels.graphics.tsaplots import plot_acf"
   ]
  },
  {
   "cell_type": "code",
   "execution_count": 94,
   "metadata": {},
   "outputs": [
    {
     "data": {
      "image/png": "[encoded data removed]",
      "text/plain": [
       "<Figure size 432x288 with 1 Axes>"
      ]
     },
     "execution_count": 94,
     "metadata": {},
     "output_type": "execute_result"
    },
    {
     "data": {
      "image/png": "[encoded data removed]",
      "text/plain": [
       "<Figure size 432x288 with 1 Axes>"
      ]
     },
     "metadata": {
      "needs_background": "light"
     },
     "output_type": "display_data"
    }
   ],
   "source": [
    "plot_acf(ddiff)"
   ]
  },
  {
   "cell_type": "code",
   "execution_count": 95,
   "metadata": {},
   "outputs": [],
   "source": [
    "from statsmodels.tsa.arima_model import ARIMA\n",
    "from pmdarima import auto_arima\n",
    "import warnings\n",
    "warnings.filterwarnings(\"ignore\")\n"
   ]
  },
  {
   "cell_type": "code",
   "execution_count": 96,
   "metadata": {},
   "outputs": [
    {
     "name": "stdout",
     "output_type": "stream",
     "text": [
      "Performing stepwise search to minimize aic\n",
      " ARIMA(2,2,2)(0,0,0)[0]             : AIC=179.075, Time=0.12 sec\n",
      " ARIMA(0,2,0)(0,0,0)[0]             : AIC=226.698, Time=0.01 sec\n",
      " ARIMA(1,2,0)(0,0,0)[0]             : AIC=203.250, Time=0.01 sec\n",
      " ARIMA(0,2,1)(0,0,0)[0]             : AIC=180.017, Time=0.02 sec\n",
      " ARIMA(1,2,2)(0,0,0)[0]             : AIC=176.672, Time=0.07 sec\n",
      " ARIMA(0,2,2)(0,0,0)[0]             : AIC=176.375, Time=0.03 sec\n",
      " ARIMA(0,2,3)(0,0,0)[0]             : AIC=178.014, Time=0.04 sec\n",
      " ARIMA(1,2,1)(0,0,0)[0]             : AIC=178.111, Time=0.02 sec\n",
      " ARIMA(1,2,3)(0,0,0)[0]             : AIC=179.456, Time=0.10 sec\n",
      " ARIMA(0,2,2)(0,0,0)[0] intercept   : AIC=inf, Time=0.14 sec\n",
      "\n",
      "Best model:  ARIMA(0,2,2)(0,0,0)[0]          \n",
      "Total fit time: 0.598 seconds\n"
     ]
    },
    {
     "data": {
      "text/plain": [
       "ARIMA(order=(0, 2, 2), scoring_args={}, suppress_warnings=True,\n",
       "      with_intercept=False)"
      ]
     },
     "execution_count": 96,
     "metadata": {},
     "output_type": "execute_result"
    }
   ],
   "source": [
    "auto_arima(df[\"CO2 PPM\"], trace = True,\n",
    "          suppress_warnings = True)"
   ]
  },
  {
   "cell_type": "markdown",
   "metadata": {},
   "source": [
    "the best model shows a differencing order of 2 and MA(2) model as it has the lowest AIC score"
   ]
  },
  {
   "cell_type": "code",
   "execution_count": 97,
   "metadata": {},
   "outputs": [
    {
     "data": {
      "text/plain": [
       "<bound method NDFrame.head of             CO2 PPM\n",
       "Year               \n",
       "1941-01-01      NaN\n",
       "1942-01-01      NaN\n",
       "1944-01-01     2.59\n",
       "1945-01-01    -1.43\n",
       "1946-01-01    -0.10\n",
       "...             ...\n",
       "2014-01-01     4.80\n",
       "2015-01-01     4.31\n",
       "2016-01-01     5.59\n",
       "2017-01-01     5.72\n",
       "2018-01-01     4.28\n",
       "\n",
       "[75 rows x 1 columns]>"
      ]
     },
     "execution_count": 97,
     "metadata": {},
     "output_type": "execute_result"
    }
   ],
   "source": [
    "ddiff2 = df.diff(periods = 2)\n",
    "ddiff2.head"
   ]
  },
  {
   "cell_type": "code",
   "execution_count": 98,
   "metadata": {},
   "outputs": [],
   "source": [
    "ddiff2 = ddiff2[2:]"
   ]
  },
  {
   "cell_type": "code",
   "execution_count": 99,
   "metadata": {},
   "outputs": [
    {
     "data": {
      "text/plain": [
       "<AxesSubplot:xlabel='Year'>"
      ]
     },
     "execution_count": 99,
     "metadata": {},
     "output_type": "execute_result"
    },
    {
     "data": {
      "image/png": "[encoded data removed]",
      "text/plain": [
       "<Figure size 432x288 with 1 Axes>"
      ]
     },
     "metadata": {
      "needs_background": "light"
     },
     "output_type": "display_data"
    }
   ],
   "source": [
    "ddiff2.plot()"
   ]
  },
  {
   "cell_type": "code",
   "execution_count": 100,
   "metadata": {},
   "outputs": [
    {
     "data": {
      "text/plain": [
       "(-1.0512305411683072,\n",
       " 0.7341238842412081,\n",
       " 6,\n",
       " 66,\n",
       " {'1%': -3.5335601309235605,\n",
       "  '5%': -2.9064436883991434,\n",
       "  '10%': -2.590723948576676},\n",
       " 94.40339992164367)"
      ]
     },
     "execution_count": 100,
     "metadata": {},
     "output_type": "execute_result"
    }
   ],
   "source": [
    "adfuller(ddiff2)"
   ]
  },
  {
   "cell_type": "markdown",
   "metadata": {},
   "source": [
    "Even with 2 times differencing, the time series is not weakly stationary"
   ]
  },
  {
   "cell_type": "code",
   "execution_count": 102,
   "metadata": {},
   "outputs": [],
   "source": [
    "df[\"CO2 log\"] = np.log(df[\"CO2 PPM\"])"
   ]
  },
  {
   "cell_type": "code",
   "execution_count": 103,
   "metadata": {},
   "outputs": [
    {
     "data": {
      "text/html": [
       "<div>\n",
       "<style scoped>\n",
       "    .dataframe tbody tr th:only-of-type {\n",
       "        vertical-align: middle;\n",
       "    }\n",
       "\n",
       "    .dataframe tbody tr th {\n",
       "        vertical-align: top;\n",
       "    }\n",
       "\n",
       "    .dataframe thead th {\n",
       "        text-align: right;\n",
       "    }\n",
       "</style>\n",
       "<table border=\"1\" class=\"dataframe\">\n",
       "  <thead>\n",
       "    <tr style=\"text-align: right;\">\n",
       "      <th></th>\n",
       "      <th>CO2 PPM</th>\n",
       "      <th>CO2 log</th>\n",
       "    </tr>\n",
       "    <tr>\n",
       "      <th>Year</th>\n",
       "      <th></th>\n",
       "      <th></th>\n",
       "    </tr>\n",
       "  </thead>\n",
       "  <tbody>\n",
       "    <tr>\n",
       "      <th>1941-01-01</th>\n",
       "      <td>309.77</td>\n",
       "      <td>5.735830</td>\n",
       "    </tr>\n",
       "    <tr>\n",
       "      <th>1942-01-01</th>\n",
       "      <td>312.37</td>\n",
       "      <td>5.744188</td>\n",
       "    </tr>\n",
       "    <tr>\n",
       "      <th>1944-01-01</th>\n",
       "      <td>312.36</td>\n",
       "      <td>5.744156</td>\n",
       "    </tr>\n",
       "    <tr>\n",
       "      <th>1945-01-01</th>\n",
       "      <td>310.94</td>\n",
       "      <td>5.739600</td>\n",
       "    </tr>\n",
       "    <tr>\n",
       "      <th>1946-01-01</th>\n",
       "      <td>312.26</td>\n",
       "      <td>5.743836</td>\n",
       "    </tr>\n",
       "    <tr>\n",
       "      <th>...</th>\n",
       "      <td>...</td>\n",
       "      <td>...</td>\n",
       "    </tr>\n",
       "    <tr>\n",
       "      <th>2014-01-01</th>\n",
       "      <td>398.65</td>\n",
       "      <td>5.988084</td>\n",
       "    </tr>\n",
       "    <tr>\n",
       "      <th>2015-01-01</th>\n",
       "      <td>400.83</td>\n",
       "      <td>5.993537</td>\n",
       "    </tr>\n",
       "    <tr>\n",
       "      <th>2016-01-01</th>\n",
       "      <td>404.24</td>\n",
       "      <td>6.002009</td>\n",
       "    </tr>\n",
       "    <tr>\n",
       "      <th>2017-01-01</th>\n",
       "      <td>406.55</td>\n",
       "      <td>6.007707</td>\n",
       "    </tr>\n",
       "    <tr>\n",
       "      <th>2018-01-01</th>\n",
       "      <td>408.52</td>\n",
       "      <td>6.012541</td>\n",
       "    </tr>\n",
       "  </tbody>\n",
       "</table>\n",
       "<p>75 rows × 2 columns</p>\n",
       "</div>"
      ],
      "text/plain": [
       "            CO2 PPM   CO2 log\n",
       "Year                         \n",
       "1941-01-01   309.77  5.735830\n",
       "1942-01-01   312.37  5.744188\n",
       "1944-01-01   312.36  5.744156\n",
       "1945-01-01   310.94  5.739600\n",
       "1946-01-01   312.26  5.743836\n",
       "...             ...       ...\n",
       "2014-01-01   398.65  5.988084\n",
       "2015-01-01   400.83  5.993537\n",
       "2016-01-01   404.24  6.002009\n",
       "2017-01-01   406.55  6.007707\n",
       "2018-01-01   408.52  6.012541\n",
       "\n",
       "[75 rows x 2 columns]"
      ]
     },
     "execution_count": 103,
     "metadata": {},
     "output_type": "execute_result"
    }
   ],
   "source": [
    "df"
   ]
  },
  {
   "cell_type": "code",
   "execution_count": 104,
   "metadata": {},
   "outputs": [
    {
     "data": {
      "text/plain": [
       "(5.047757637378576,\n",
       " 1.0,\n",
       " 2,\n",
       " 72,\n",
       " {'1%': -3.524624466842421,\n",
       "  '5%': -2.9026070739026064,\n",
       "  '10%': -2.5886785262345677},\n",
       " -640.58184033897)"
      ]
     },
     "execution_count": 104,
     "metadata": {},
     "output_type": "execute_result"
    }
   ],
   "source": [
    "adfuller(df[\"CO2 log\"])"
   ]
  },
  {
   "cell_type": "code",
   "execution_count": 109,
   "metadata": {},
   "outputs": [],
   "source": [
    "df2 = df.diff(periods = 1)"
   ]
  },
  {
   "cell_type": "code",
   "execution_count": 110,
   "metadata": {},
   "outputs": [
    {
     "data": {
      "text/plain": [
       "<AxesSubplot:xlabel='Year'>"
      ]
     },
     "execution_count": 110,
     "metadata": {},
     "output_type": "execute_result"
    },
    {
     "data": {
      "image/png": "[encoded data removed]",
      "text/plain": [
       "<Figure size 432x288 with 1 Axes>"
      ]
     },
     "metadata": {
      "needs_background": "light"
     },
     "output_type": "display_data"
    }
   ],
   "source": [
    "df2[\"CO2 log\"].plot()"
   ]
  },
  {
   "cell_type": "code",
   "execution_count": 111,
   "metadata": {},
   "outputs": [
    {
     "data": {
      "text/plain": [
       "(-2.199572007268648,\n",
       " 0.20640083019902283,\n",
       " 3,\n",
       " 69,\n",
       " {'1%': -3.528889992207215,\n",
       "  '5%': -2.9044395987933362,\n",
       "  '10%': -2.589655654274312},\n",
       " -616.1494407294961)"
      ]
     },
     "execution_count": 111,
     "metadata": {},
     "output_type": "execute_result"
    }
   ],
   "source": [
    "df2 = df2[2:]\n",
    "adfuller(df2[\"CO2 log\"])"
   ]
  },
  {
   "cell_type": "code",
   "execution_count": 115,
   "metadata": {},
   "outputs": [
    {
     "data": {
      "text/html": [
       "<div>\n",
       "<style scoped>\n",
       "    .dataframe tbody tr th:only-of-type {\n",
       "        vertical-align: middle;\n",
       "    }\n",
       "\n",
       "    .dataframe tbody tr th {\n",
       "        vertical-align: top;\n",
       "    }\n",
       "\n",
       "    .dataframe thead th {\n",
       "        text-align: right;\n",
       "    }\n",
       "</style>\n",
       "<table border=\"1\" class=\"dataframe\">\n",
       "  <thead>\n",
       "    <tr style=\"text-align: right;\">\n",
       "      <th></th>\n",
       "      <th>CO2 PPM</th>\n",
       "      <th>CO2 log</th>\n",
       "    </tr>\n",
       "    <tr>\n",
       "      <th>Year</th>\n",
       "      <th></th>\n",
       "      <th></th>\n",
       "    </tr>\n",
       "  </thead>\n",
       "  <tbody>\n",
       "    <tr>\n",
       "      <th>1944-01-01</th>\n",
       "      <td>-0.01</td>\n",
       "      <td>-0.000032</td>\n",
       "    </tr>\n",
       "    <tr>\n",
       "      <th>1945-01-01</th>\n",
       "      <td>-1.42</td>\n",
       "      <td>-0.004556</td>\n",
       "    </tr>\n",
       "    <tr>\n",
       "      <th>1946-01-01</th>\n",
       "      <td>1.32</td>\n",
       "      <td>0.004236</td>\n",
       "    </tr>\n",
       "    <tr>\n",
       "      <th>1947-01-01</th>\n",
       "      <td>-0.65</td>\n",
       "      <td>-0.002084</td>\n",
       "    </tr>\n",
       "    <tr>\n",
       "      <th>1948-01-01</th>\n",
       "      <td>-0.04</td>\n",
       "      <td>-0.000128</td>\n",
       "    </tr>\n",
       "    <tr>\n",
       "      <th>...</th>\n",
       "      <td>...</td>\n",
       "      <td>...</td>\n",
       "    </tr>\n",
       "    <tr>\n",
       "      <th>2014-01-01</th>\n",
       "      <td>2.13</td>\n",
       "      <td>0.005357</td>\n",
       "    </tr>\n",
       "    <tr>\n",
       "      <th>2015-01-01</th>\n",
       "      <td>2.18</td>\n",
       "      <td>0.005454</td>\n",
       "    </tr>\n",
       "    <tr>\n",
       "      <th>2016-01-01</th>\n",
       "      <td>3.41</td>\n",
       "      <td>0.008471</td>\n",
       "    </tr>\n",
       "    <tr>\n",
       "      <th>2017-01-01</th>\n",
       "      <td>2.31</td>\n",
       "      <td>0.005698</td>\n",
       "    </tr>\n",
       "    <tr>\n",
       "      <th>2018-01-01</th>\n",
       "      <td>1.97</td>\n",
       "      <td>0.004834</td>\n",
       "    </tr>\n",
       "  </tbody>\n",
       "</table>\n",
       "<p>73 rows × 2 columns</p>\n",
       "</div>"
      ],
      "text/plain": [
       "            CO2 PPM   CO2 log\n",
       "Year                         \n",
       "1944-01-01    -0.01 -0.000032\n",
       "1945-01-01    -1.42 -0.004556\n",
       "1946-01-01     1.32  0.004236\n",
       "1947-01-01    -0.65 -0.002084\n",
       "1948-01-01    -0.04 -0.000128\n",
       "...             ...       ...\n",
       "2014-01-01     2.13  0.005357\n",
       "2015-01-01     2.18  0.005454\n",
       "2016-01-01     3.41  0.008471\n",
       "2017-01-01     2.31  0.005698\n",
       "2018-01-01     1.97  0.004834\n",
       "\n",
       "[73 rows x 2 columns]"
      ]
     },
     "execution_count": 115,
     "metadata": {},
     "output_type": "execute_result"
    }
   ],
   "source": [
    "df2"
   ]
  },
  {
   "cell_type": "code",
   "execution_count": 112,
   "metadata": {},
   "outputs": [
    {
     "name": "stdout",
     "output_type": "stream",
     "text": [
      "Performing stepwise search to minimize aic\n",
      " ARIMA(2,1,2)(0,0,0)[0] intercept   : AIC=-654.082, Time=0.19 sec\n",
      " ARIMA(0,1,0)(0,0,0)[0] intercept   : AIC=-610.227, Time=0.06 sec\n",
      " ARIMA(1,1,0)(0,0,0)[0] intercept   : AIC=-644.990, Time=0.05 sec\n",
      " ARIMA(0,1,1)(0,0,0)[0] intercept   : AIC=inf, Time=0.14 sec\n",
      " ARIMA(0,1,0)(0,0,0)[0]             : AIC=-612.199, Time=0.07 sec\n",
      " ARIMA(1,1,2)(0,0,0)[0] intercept   : AIC=-662.360, Time=0.13 sec\n",
      " ARIMA(0,1,2)(0,0,0)[0] intercept   : AIC=-662.605, Time=0.08 sec\n",
      " ARIMA(0,1,3)(0,0,0)[0] intercept   : AIC=-669.563, Time=0.16 sec\n",
      " ARIMA(1,1,3)(0,0,0)[0] intercept   : AIC=-669.181, Time=0.39 sec\n",
      " ARIMA(0,1,4)(0,0,0)[0] intercept   : AIC=-663.452, Time=0.28 sec\n",
      " ARIMA(1,1,4)(0,0,0)[0] intercept   : AIC=-665.563, Time=0.33 sec\n",
      " ARIMA(0,1,3)(0,0,0)[0]             : AIC=-669.313, Time=0.20 sec\n",
      "\n",
      "Best model:  ARIMA(0,1,3)(0,0,0)[0] intercept\n",
      "Total fit time: 2.079 seconds\n"
     ]
    },
    {
     "data": {
      "text/plain": [
       "ARIMA(order=(0, 1, 3), scoring_args={}, suppress_warnings=True)"
      ]
     },
     "execution_count": 112,
     "metadata": {},
     "output_type": "execute_result"
    }
   ],
   "source": [
    "auto_arima(df2[\"CO2 log\"], trace = True,\n",
    "          suppress_warnings = True)"
   ]
  },
  {
   "cell_type": "code",
   "execution_count": 119,
   "metadata": {},
   "outputs": [],
   "source": [
    "train = df[:60]"
   ]
  },
  {
   "cell_type": "code",
   "execution_count": 132,
   "metadata": {},
   "outputs": [
    {
     "data": {
      "text/plain": [
       "15"
      ]
     },
     "execution_count": 132,
     "metadata": {},
     "output_type": "execute_result"
    }
   ],
   "source": [
    "test = df[\"CO2 PPM\"].values[60:]\n",
    "len(test)"
   ]
  },
  {
   "cell_type": "code",
   "execution_count": 133,
   "metadata": {},
   "outputs": [
    {
     "data": {
      "text/html": [
       "<div>\n",
       "<style scoped>\n",
       "    .dataframe tbody tr th:only-of-type {\n",
       "        vertical-align: middle;\n",
       "    }\n",
       "\n",
       "    .dataframe tbody tr th {\n",
       "        vertical-align: top;\n",
       "    }\n",
       "\n",
       "    .dataframe thead th {\n",
       "        text-align: right;\n",
       "    }\n",
       "</style>\n",
       "<table border=\"1\" class=\"dataframe\">\n",
       "  <thead>\n",
       "    <tr style=\"text-align: right;\">\n",
       "      <th></th>\n",
       "      <th>CO2 PPM</th>\n",
       "      <th>CO2 log</th>\n",
       "    </tr>\n",
       "    <tr>\n",
       "      <th>Year</th>\n",
       "      <th></th>\n",
       "      <th></th>\n",
       "    </tr>\n",
       "  </thead>\n",
       "  <tbody>\n",
       "    <tr>\n",
       "      <th>1941-01-01</th>\n",
       "      <td>309.77</td>\n",
       "      <td>5.735830</td>\n",
       "    </tr>\n",
       "    <tr>\n",
       "      <th>1942-01-01</th>\n",
       "      <td>312.37</td>\n",
       "      <td>5.744188</td>\n",
       "    </tr>\n",
       "    <tr>\n",
       "      <th>1944-01-01</th>\n",
       "      <td>312.36</td>\n",
       "      <td>5.744156</td>\n",
       "    </tr>\n",
       "    <tr>\n",
       "      <th>1945-01-01</th>\n",
       "      <td>310.94</td>\n",
       "      <td>5.739600</td>\n",
       "    </tr>\n",
       "    <tr>\n",
       "      <th>1946-01-01</th>\n",
       "      <td>312.26</td>\n",
       "      <td>5.743836</td>\n",
       "    </tr>\n",
       "    <tr>\n",
       "      <th>1947-01-01</th>\n",
       "      <td>311.61</td>\n",
       "      <td>5.741752</td>\n",
       "    </tr>\n",
       "    <tr>\n",
       "      <th>1948-01-01</th>\n",
       "      <td>311.57</td>\n",
       "      <td>5.741624</td>\n",
       "    </tr>\n",
       "    <tr>\n",
       "      <th>1949-01-01</th>\n",
       "      <td>309.69</td>\n",
       "      <td>5.735572</td>\n",
       "    </tr>\n",
       "    <tr>\n",
       "      <th>1950-01-01</th>\n",
       "      <td>312.83</td>\n",
       "      <td>5.745660</td>\n",
       "    </tr>\n",
       "    <tr>\n",
       "      <th>1952-01-01</th>\n",
       "      <td>312.18</td>\n",
       "      <td>5.743580</td>\n",
       "    </tr>\n",
       "    <tr>\n",
       "      <th>1954-01-01</th>\n",
       "      <td>312.73</td>\n",
       "      <td>5.745340</td>\n",
       "    </tr>\n",
       "    <tr>\n",
       "      <th>1955-01-01</th>\n",
       "      <td>314.71</td>\n",
       "      <td>5.751652</td>\n",
       "    </tr>\n",
       "    <tr>\n",
       "      <th>1956-01-01</th>\n",
       "      <td>315.34</td>\n",
       "      <td>5.753651</td>\n",
       "    </tr>\n",
       "    <tr>\n",
       "      <th>1957-01-01</th>\n",
       "      <td>315.34</td>\n",
       "      <td>5.753651</td>\n",
       "    </tr>\n",
       "    <tr>\n",
       "      <th>1958-01-01</th>\n",
       "      <td>315.34</td>\n",
       "      <td>5.753651</td>\n",
       "    </tr>\n",
       "    <tr>\n",
       "      <th>1959-01-01</th>\n",
       "      <td>315.97</td>\n",
       "      <td>5.755647</td>\n",
       "    </tr>\n",
       "    <tr>\n",
       "      <th>1960-01-01</th>\n",
       "      <td>316.91</td>\n",
       "      <td>5.758618</td>\n",
       "    </tr>\n",
       "    <tr>\n",
       "      <th>1961-01-01</th>\n",
       "      <td>317.64</td>\n",
       "      <td>5.760919</td>\n",
       "    </tr>\n",
       "    <tr>\n",
       "      <th>1962-01-01</th>\n",
       "      <td>318.45</td>\n",
       "      <td>5.763465</td>\n",
       "    </tr>\n",
       "    <tr>\n",
       "      <th>1963-01-01</th>\n",
       "      <td>318.99</td>\n",
       "      <td>5.765160</td>\n",
       "    </tr>\n",
       "    <tr>\n",
       "      <th>1964-01-01</th>\n",
       "      <td>319.62</td>\n",
       "      <td>5.767133</td>\n",
       "    </tr>\n",
       "    <tr>\n",
       "      <th>1965-01-01</th>\n",
       "      <td>320.04</td>\n",
       "      <td>5.768446</td>\n",
       "    </tr>\n",
       "    <tr>\n",
       "      <th>1966-01-01</th>\n",
       "      <td>321.38</td>\n",
       "      <td>5.772624</td>\n",
       "    </tr>\n",
       "    <tr>\n",
       "      <th>1967-01-01</th>\n",
       "      <td>322.16</td>\n",
       "      <td>5.775048</td>\n",
       "    </tr>\n",
       "    <tr>\n",
       "      <th>1968-01-01</th>\n",
       "      <td>323.04</td>\n",
       "      <td>5.777776</td>\n",
       "    </tr>\n",
       "    <tr>\n",
       "      <th>1969-01-01</th>\n",
       "      <td>324.62</td>\n",
       "      <td>5.782655</td>\n",
       "    </tr>\n",
       "    <tr>\n",
       "      <th>1970-01-01</th>\n",
       "      <td>325.68</td>\n",
       "      <td>5.785915</td>\n",
       "    </tr>\n",
       "    <tr>\n",
       "      <th>1971-01-01</th>\n",
       "      <td>326.32</td>\n",
       "      <td>5.787878</td>\n",
       "    </tr>\n",
       "    <tr>\n",
       "      <th>1972-01-01</th>\n",
       "      <td>327.45</td>\n",
       "      <td>5.791335</td>\n",
       "    </tr>\n",
       "    <tr>\n",
       "      <th>1973-01-01</th>\n",
       "      <td>329.68</td>\n",
       "      <td>5.798122</td>\n",
       "    </tr>\n",
       "    <tr>\n",
       "      <th>1974-01-01</th>\n",
       "      <td>330.18</td>\n",
       "      <td>5.799638</td>\n",
       "    </tr>\n",
       "    <tr>\n",
       "      <th>1975-01-01</th>\n",
       "      <td>331.11</td>\n",
       "      <td>5.802451</td>\n",
       "    </tr>\n",
       "    <tr>\n",
       "      <th>1976-01-01</th>\n",
       "      <td>332.04</td>\n",
       "      <td>5.805255</td>\n",
       "    </tr>\n",
       "    <tr>\n",
       "      <th>1977-01-01</th>\n",
       "      <td>333.83</td>\n",
       "      <td>5.810632</td>\n",
       "    </tr>\n",
       "    <tr>\n",
       "      <th>1978-01-01</th>\n",
       "      <td>335.40</td>\n",
       "      <td>5.815324</td>\n",
       "    </tr>\n",
       "    <tr>\n",
       "      <th>1979-01-01</th>\n",
       "      <td>336.84</td>\n",
       "      <td>5.819608</td>\n",
       "    </tr>\n",
       "    <tr>\n",
       "      <th>1980-01-01</th>\n",
       "      <td>338.75</td>\n",
       "      <td>5.825262</td>\n",
       "    </tr>\n",
       "    <tr>\n",
       "      <th>1981-01-01</th>\n",
       "      <td>340.11</td>\n",
       "      <td>5.829269</td>\n",
       "    </tr>\n",
       "    <tr>\n",
       "      <th>1982-01-01</th>\n",
       "      <td>341.45</td>\n",
       "      <td>5.833201</td>\n",
       "    </tr>\n",
       "    <tr>\n",
       "      <th>1983-01-01</th>\n",
       "      <td>343.05</td>\n",
       "      <td>5.837876</td>\n",
       "    </tr>\n",
       "    <tr>\n",
       "      <th>1984-01-01</th>\n",
       "      <td>344.65</td>\n",
       "      <td>5.842529</td>\n",
       "    </tr>\n",
       "    <tr>\n",
       "      <th>1985-01-01</th>\n",
       "      <td>346.12</td>\n",
       "      <td>5.846786</td>\n",
       "    </tr>\n",
       "    <tr>\n",
       "      <th>1986-01-01</th>\n",
       "      <td>347.42</td>\n",
       "      <td>5.850534</td>\n",
       "    </tr>\n",
       "    <tr>\n",
       "      <th>1987-01-01</th>\n",
       "      <td>349.19</td>\n",
       "      <td>5.855616</td>\n",
       "    </tr>\n",
       "    <tr>\n",
       "      <th>1988-01-01</th>\n",
       "      <td>351.57</td>\n",
       "      <td>5.862409</td>\n",
       "    </tr>\n",
       "    <tr>\n",
       "      <th>1989-01-01</th>\n",
       "      <td>353.12</td>\n",
       "      <td>5.866808</td>\n",
       "    </tr>\n",
       "    <tr>\n",
       "      <th>1990-01-01</th>\n",
       "      <td>354.39</td>\n",
       "      <td>5.870398</td>\n",
       "    </tr>\n",
       "    <tr>\n",
       "      <th>1991-01-01</th>\n",
       "      <td>355.61</td>\n",
       "      <td>5.873835</td>\n",
       "    </tr>\n",
       "    <tr>\n",
       "      <th>1992-01-01</th>\n",
       "      <td>356.45</td>\n",
       "      <td>5.876194</td>\n",
       "    </tr>\n",
       "    <tr>\n",
       "      <th>1993-01-01</th>\n",
       "      <td>357.10</td>\n",
       "      <td>5.878016</td>\n",
       "    </tr>\n",
       "    <tr>\n",
       "      <th>1994-01-01</th>\n",
       "      <td>358.83</td>\n",
       "      <td>5.882849</td>\n",
       "    </tr>\n",
       "    <tr>\n",
       "      <th>1995-01-01</th>\n",
       "      <td>360.82</td>\n",
       "      <td>5.888379</td>\n",
       "    </tr>\n",
       "    <tr>\n",
       "      <th>1996-01-01</th>\n",
       "      <td>362.61</td>\n",
       "      <td>5.893328</td>\n",
       "    </tr>\n",
       "    <tr>\n",
       "      <th>1997-01-01</th>\n",
       "      <td>363.73</td>\n",
       "      <td>5.896412</td>\n",
       "    </tr>\n",
       "    <tr>\n",
       "      <th>1998-01-01</th>\n",
       "      <td>366.70</td>\n",
       "      <td>5.904544</td>\n",
       "    </tr>\n",
       "    <tr>\n",
       "      <th>1999-01-01</th>\n",
       "      <td>368.38</td>\n",
       "      <td>5.909115</td>\n",
       "    </tr>\n",
       "    <tr>\n",
       "      <th>2000-01-01</th>\n",
       "      <td>369.55</td>\n",
       "      <td>5.912286</td>\n",
       "    </tr>\n",
       "    <tr>\n",
       "      <th>2001-01-01</th>\n",
       "      <td>371.14</td>\n",
       "      <td>5.916579</td>\n",
       "    </tr>\n",
       "    <tr>\n",
       "      <th>2002-01-01</th>\n",
       "      <td>373.28</td>\n",
       "      <td>5.922329</td>\n",
       "    </tr>\n",
       "    <tr>\n",
       "      <th>2003-01-01</th>\n",
       "      <td>375.80</td>\n",
       "      <td>5.929057</td>\n",
       "    </tr>\n",
       "  </tbody>\n",
       "</table>\n",
       "</div>"
      ],
      "text/plain": [
       "            CO2 PPM   CO2 log\n",
       "Year                         \n",
       "1941-01-01   309.77  5.735830\n",
       "1942-01-01   312.37  5.744188\n",
       "1944-01-01   312.36  5.744156\n",
       "1945-01-01   310.94  5.739600\n",
       "1946-01-01   312.26  5.743836\n",
       "1947-01-01   311.61  5.741752\n",
       "1948-01-01   311.57  5.741624\n",
       "1949-01-01   309.69  5.735572\n",
       "1950-01-01   312.83  5.745660\n",
       "1952-01-01   312.18  5.743580\n",
       "1954-01-01   312.73  5.745340\n",
       "1955-01-01   314.71  5.751652\n",
       "1956-01-01   315.34  5.753651\n",
       "1957-01-01   315.34  5.753651\n",
       "1958-01-01   315.34  5.753651\n",
       "1959-01-01   315.97  5.755647\n",
       "1960-01-01   316.91  5.758618\n",
       "1961-01-01   317.64  5.760919\n",
       "1962-01-01   318.45  5.763465\n",
       "1963-01-01   318.99  5.765160\n",
       "1964-01-01   319.62  5.767133\n",
       "1965-01-01   320.04  5.768446\n",
       "1966-01-01   321.38  5.772624\n",
       "1967-01-01   322.16  5.775048\n",
       "1968-01-01   323.04  5.777776\n",
       "1969-01-01   324.62  5.782655\n",
       "1970-01-01   325.68  5.785915\n",
       "1971-01-01   326.32  5.787878\n",
       "1972-01-01   327.45  5.791335\n",
       "1973-01-01   329.68  5.798122\n",
       "1974-01-01   330.18  5.799638\n",
       "1975-01-01   331.11  5.802451\n",
       "1976-01-01   332.04  5.805255\n",
       "1977-01-01   333.83  5.810632\n",
       "1978-01-01   335.40  5.815324\n",
       "1979-01-01   336.84  5.819608\n",
       "1980-01-01   338.75  5.825262\n",
       "1981-01-01   340.11  5.829269\n",
       "1982-01-01   341.45  5.833201\n",
       "1983-01-01   343.05  5.837876\n",
       "1984-01-01   344.65  5.842529\n",
       "1985-01-01   346.12  5.846786\n",
       "1986-01-01   347.42  5.850534\n",
       "1987-01-01   349.19  5.855616\n",
       "1988-01-01   351.57  5.862409\n",
       "1989-01-01   353.12  5.866808\n",
       "1990-01-01   354.39  5.870398\n",
       "1991-01-01   355.61  5.873835\n",
       "1992-01-01   356.45  5.876194\n",
       "1993-01-01   357.10  5.878016\n",
       "1994-01-01   358.83  5.882849\n",
       "1995-01-01   360.82  5.888379\n",
       "1996-01-01   362.61  5.893328\n",
       "1997-01-01   363.73  5.896412\n",
       "1998-01-01   366.70  5.904544\n",
       "1999-01-01   368.38  5.909115\n",
       "2000-01-01   369.55  5.912286\n",
       "2001-01-01   371.14  5.916579\n",
       "2002-01-01   373.28  5.922329\n",
       "2003-01-01   375.80  5.929057"
      ]
     },
     "execution_count": 133,
     "metadata": {},
     "output_type": "execute_result"
    }
   ],
   "source": [
    "train"
   ]
  },
  {
   "cell_type": "code",
   "execution_count": 140,
   "metadata": {},
   "outputs": [],
   "source": [
    "modarima = ARIMA(train[[\"CO2 PPM\"]], order = (0,2,2))\n",
    "modfit = modarima.fit()\n",
    "pred2 = modfit.forecast(steps=15)[0]"
   ]
  },
  {
   "cell_type": "code",
   "execution_count": 141,
   "metadata": {},
   "outputs": [
    {
     "data": {
      "text/plain": [
       "array([377.52, 379.8 , 381.9 , 383.79, 385.6 , 387.43, 389.9 , 391.65,\n",
       "       393.85, 396.52, 398.65, 400.83, 404.24, 406.55, 408.52])"
      ]
     },
     "execution_count": 141,
     "metadata": {},
     "output_type": "execute_result"
    }
   ],
   "source": [
    "test"
   ]
  },
  {
   "cell_type": "code",
   "execution_count": 148,
   "metadata": {},
   "outputs": [
    {
     "data": {
      "text/plain": [
       "Text(0.5, 0, 'Time steps')"
      ]
     },
     "execution_count": 148,
     "metadata": {},
     "output_type": "execute_result"
    },
    {
     "data": {
      "image/png": "[encoded data removed]",
      "text/plain": [
       "<Figure size 432x288 with 1 Axes>"
      ]
     },
     "metadata": {
      "needs_background": "light"
     },
     "output_type": "display_data"
    }
   ],
   "source": [
    "plt.plot(pred2, label = \"Predictions\")\n",
    "plt.plot(test, label = \"Actual Emissions\")\n",
    "plt.legend()\n",
    "plt.title(\"CO2 Atmospheric Concentration- Model predictions vs Actual Values\")\n",
    "plt.ylabel(\"CO2 Atmospheric Concentration (PPM)\")\n",
    "plt.xlabel(\"Time steps\")"
   ]
  },
  {
   "cell_type": "code",
   "execution_count": 143,
   "metadata": {},
   "outputs": [
    {
     "data": {
      "text/plain": [
       "array([377.60383886, 379.63935764, 381.70515783, 383.80123942,\n",
       "       385.92760241, 388.08424681, 390.27117261, 392.48837982,\n",
       "       394.73586843, 397.01363845, 399.32168986, 401.66002269,\n",
       "       404.02863691, 406.42753255, 408.85670958])"
      ]
     },
     "execution_count": 143,
     "metadata": {},
     "output_type": "execute_result"
    }
   ],
   "source": [
    "pred2"
   ]
  },
  {
   "cell_type": "markdown",
   "metadata": {},
   "source": [
    "We now fit the entire dataset to the 0,2,2 ARIMA model, and forecast 10 years into the future. "
   ]
  },
  {
   "cell_type": "code",
   "execution_count": 172,
   "metadata": {},
   "outputs": [],
   "source": [
    "mod1 = ARIMA(df[[\"CO2 PPM\"]], order = (0,2,2))\n",
    "modfit = mod1.fit()\n",
    "pred = modfit.forecast(steps =12)[0]"
   ]
  },
  {
   "cell_type": "code",
   "execution_count": 173,
   "metadata": {},
   "outputs": [
    {
     "data": {
      "text/plain": [
       "array([411.11311557, 413.60305889, 416.12312563, 418.6733158 ,\n",
       "       421.25362938, 423.86406639, 426.50462681, 429.17531066,\n",
       "       431.87611793, 434.60704862, 437.36810273, 440.15928027])"
      ]
     },
     "execution_count": 173,
     "metadata": {},
     "output_type": "execute_result"
    }
   ],
   "source": [
    "pred"
   ]
  },
  {
   "cell_type": "code",
   "execution_count": 174,
   "metadata": {},
   "outputs": [
    {
     "data": {
      "text/plain": [
       "numpy.ndarray"
      ]
     },
     "execution_count": 174,
     "metadata": {},
     "output_type": "execute_result"
    }
   ],
   "source": [
    "type(pred)"
   ]
  },
  {
   "cell_type": "code",
   "execution_count": 175,
   "metadata": {},
   "outputs": [],
   "source": [
    "index = ['2019','2020','2021','2022','2023','2024','2025','2026','2027','2028','2029','2030']\n",
    "df_new = pd.DataFrame(pred, columns = ['Predicted CO2 PPM'],index = index)"
   ]
  },
  {
   "cell_type": "code",
   "execution_count": 176,
   "metadata": {},
   "outputs": [
    {
     "data": {
      "text/plain": [
       "Index(['Predicted CO2 PPM'], dtype='object')"
      ]
     },
     "execution_count": 176,
     "metadata": {},
     "output_type": "execute_result"
    }
   ],
   "source": [
    "df_new.columns"
   ]
  },
  {
   "cell_type": "code",
   "execution_count": 177,
   "metadata": {},
   "outputs": [
    {
     "data": {
      "text/html": [
       "<div>\n",
       "<style scoped>\n",
       "    .dataframe tbody tr th:only-of-type {\n",
       "        vertical-align: middle;\n",
       "    }\n",
       "\n",
       "    .dataframe tbody tr th {\n",
       "        vertical-align: top;\n",
       "    }\n",
       "\n",
       "    .dataframe thead th {\n",
       "        text-align: right;\n",
       "    }\n",
       "</style>\n",
       "<table border=\"1\" class=\"dataframe\">\n",
       "  <thead>\n",
       "    <tr style=\"text-align: right;\">\n",
       "      <th></th>\n",
       "      <th>Predicted CO2 PPM</th>\n",
       "    </tr>\n",
       "  </thead>\n",
       "  <tbody>\n",
       "    <tr>\n",
       "      <th>2019</th>\n",
       "      <td>411.113116</td>\n",
       "    </tr>\n",
       "    <tr>\n",
       "      <th>2020</th>\n",
       "      <td>413.603059</td>\n",
       "    </tr>\n",
       "    <tr>\n",
       "      <th>2021</th>\n",
       "      <td>416.123126</td>\n",
       "    </tr>\n",
       "    <tr>\n",
       "      <th>2022</th>\n",
       "      <td>418.673316</td>\n",
       "    </tr>\n",
       "    <tr>\n",
       "      <th>2023</th>\n",
       "      <td>421.253629</td>\n",
       "    </tr>\n",
       "    <tr>\n",
       "      <th>2024</th>\n",
       "      <td>423.864066</td>\n",
       "    </tr>\n",
       "    <tr>\n",
       "      <th>2025</th>\n",
       "      <td>426.504627</td>\n",
       "    </tr>\n",
       "    <tr>\n",
       "      <th>2026</th>\n",
       "      <td>429.175311</td>\n",
       "    </tr>\n",
       "    <tr>\n",
       "      <th>2027</th>\n",
       "      <td>431.876118</td>\n",
       "    </tr>\n",
       "    <tr>\n",
       "      <th>2028</th>\n",
       "      <td>434.607049</td>\n",
       "    </tr>\n",
       "    <tr>\n",
       "      <th>2029</th>\n",
       "      <td>437.368103</td>\n",
       "    </tr>\n",
       "    <tr>\n",
       "      <th>2030</th>\n",
       "      <td>440.159280</td>\n",
       "    </tr>\n",
       "  </tbody>\n",
       "</table>\n",
       "</div>"
      ],
      "text/plain": [
       "      Predicted CO2 PPM\n",
       "2019         411.113116\n",
       "2020         413.603059\n",
       "2021         416.123126\n",
       "2022         418.673316\n",
       "2023         421.253629\n",
       "2024         423.864066\n",
       "2025         426.504627\n",
       "2026         429.175311\n",
       "2027         431.876118\n",
       "2028         434.607049\n",
       "2029         437.368103\n",
       "2030         440.159280"
      ]
     },
     "execution_count": 177,
     "metadata": {},
     "output_type": "execute_result"
    }
   ],
   "source": [
    "df_new"
   ]
  },
  {
   "cell_type": "code",
   "execution_count": 178,
   "metadata": {},
   "outputs": [],
   "source": [
    "df_new.index = pd.to_datetime(df_new.index, format = \"%Y\")"
   ]
  },
  {
   "cell_type": "code",
   "execution_count": 181,
   "metadata": {},
   "outputs": [
    {
     "data": {
      "text/html": [
       "<div>\n",
       "<style scoped>\n",
       "    .dataframe tbody tr th:only-of-type {\n",
       "        vertical-align: middle;\n",
       "    }\n",
       "\n",
       "    .dataframe tbody tr th {\n",
       "        vertical-align: top;\n",
       "    }\n",
       "\n",
       "    .dataframe thead th {\n",
       "        text-align: right;\n",
       "    }\n",
       "</style>\n",
       "<table border=\"1\" class=\"dataframe\">\n",
       "  <thead>\n",
       "    <tr style=\"text-align: right;\">\n",
       "      <th></th>\n",
       "      <th>Predicted CO2 PPM</th>\n",
       "    </tr>\n",
       "  </thead>\n",
       "  <tbody>\n",
       "    <tr>\n",
       "      <th>2019-01-01</th>\n",
       "      <td>411.113116</td>\n",
       "    </tr>\n",
       "    <tr>\n",
       "      <th>2020-01-01</th>\n",
       "      <td>413.603059</td>\n",
       "    </tr>\n",
       "    <tr>\n",
       "      <th>2021-01-01</th>\n",
       "      <td>416.123126</td>\n",
       "    </tr>\n",
       "    <tr>\n",
       "      <th>2022-01-01</th>\n",
       "      <td>418.673316</td>\n",
       "    </tr>\n",
       "    <tr>\n",
       "      <th>2023-01-01</th>\n",
       "      <td>421.253629</td>\n",
       "    </tr>\n",
       "  </tbody>\n",
       "</table>\n",
       "</div>"
      ],
      "text/plain": [
       "            Predicted CO2 PPM\n",
       "2019-01-01         411.113116\n",
       "2020-01-01         413.603059\n",
       "2021-01-01         416.123126\n",
       "2022-01-01         418.673316\n",
       "2023-01-01         421.253629"
      ]
     },
     "execution_count": 181,
     "metadata": {},
     "output_type": "execute_result"
    }
   ],
   "source": [
    "df_new.head()"
   ]
  },
  {
   "cell_type": "markdown",
   "metadata": {},
   "source": [
    " In 2019, the CO2 ppm was 411.3 +/- 0.6, and in 2020 , the CO2 ppm was 414.0 +/- 0.6. The model does well in predicting both figures within the standard deviation based on current trends. "
   ]
  },
  {
   "cell_type": "code",
   "execution_count": null,
   "metadata": {},
   "outputs": [],
   "source": []
  }
 ],
 "metadata": {
  "kernelspec": {
   "display_name": "Python 3",
   "language": "python",
   "name": "python3"
  },
  "language_info": {
   "codemirror_mode": {
    "name": "ipython",
    "version": 3
   },
   "file_extension": ".py",
   "mimetype": "text/x-python",
   "name": "python",
   "nbconvert_exporter": "python",
   "pygments_lexer": "ipython3",
   "version": "3.8.5"
  }
 },
 "nbformat": 4,
 "nbformat_minor": 4
}
